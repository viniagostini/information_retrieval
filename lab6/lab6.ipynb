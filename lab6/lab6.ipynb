{
 "cells": [
  {
   "cell_type": "code",
   "execution_count": 1,
   "metadata": {},
   "outputs": [
    {
     "name": "stdout",
     "output_type": "stream",
     "text": [
      "[nltk_data] Downloading package rslp to /home/vinicius/nltk_data...\n",
      "[nltk_data]   Package rslp is already up-to-date!\n"
     ]
    }
   ],
   "source": [
    "import pandas as pd\n",
    "import matplotlib.pyplot as plt\n",
    "import numpy as np\n",
    "import nltk\n",
    "from nltk.tokenize import RegexpTokenizer\n",
    "import collections\n",
    "import seaborn as sns\n",
    "nltk.download('rslp')\n",
    "from nltk.stem import RSLPStemmer\n",
    "import heapq as hp\n",
    "from collections import Counter,OrderedDict\n",
    "import math"
   ]
  },
  {
   "cell_type": "code",
   "execution_count": 2,
   "metadata": {
    "collapsed": true
   },
   "outputs": [],
   "source": [
    "data = pd.read_csv('./results.csv')"
   ]
  },
  {
   "cell_type": "markdown",
   "metadata": {},
   "source": [
    "### 1. Reconstruir o índice considerando o conjunto de dados que indicamos. Esses são os dados coletados por Bernardi e os estaremos usando para facilitar a correção da atividade. Se você já estiver usando esses dados não precisa reconstruir o índice;"
   ]
  },
  {
   "cell_type": "code",
   "execution_count": 6,
   "metadata": {},
   "outputs": [],
   "source": [
    "#generate tokens from a document\n",
    "def parse(doc):\n",
    "    words = ''.join(str(v) for v in doc).lower()\n",
    "    return RegexpTokenizer(r'[A-zÀ-ú\\d]{4,}').tokenize(words)\n",
    "\n",
    "# produces: term:[(doc, frequency)]\n",
    "#build an index for a collection of documents\n",
    "def build_index_with_frequency(docs):\n",
    "    index = {}\n",
    "    n = 0\n",
    "    for text in docs.text:\n",
    "        n +=1\n",
    "        tokens = parse(text)\n",
    "        for token in tokens:\n",
    "            if (token in index):\n",
    "                hasDoc = False\n",
    "                for i in range(len(index[token])):\n",
    "                    tup = index[token][i]\n",
    "                    if (tup[0] == n):\n",
    "                        index[token][i] = (n, tup[1] + 1)\n",
    "                        hasDoc = True\n",
    "                if (not hasDoc):\n",
    "                    index[token].append((n,1))\n",
    "            else:\n",
    "                index[token] = [(n,1)]\n",
    "    return index\n",
    "index = build_index_with_frequency(data)"
   ]
  },
  {
   "cell_type": "markdown",
   "metadata": {},
   "source": [
    "### 2. Refinar o índice invertido de forma a também incluir o IDF (inverse document frequency) de cada termo do dicionário; "
   ]
  },
  {
   "cell_type": "code",
   "execution_count": 11,
   "metadata": {},
   "outputs": [],
   "source": [
    "# produces: term:[(doc, frequency), idf]\n",
    "#build an index for a collection of documents\n",
    "def build_index_with_frequency_and_idf(docs):\n",
    "    index = {}\n",
    "    n = 0\n",
    "    M = len(docs)\n",
    "    for text in docs.text:\n",
    "        n +=1\n",
    "        tokens = parse(text)\n",
    "        for token in tokens:\n",
    "            if (token in index):\n",
    "                hasDoc = False\n",
    "                for i in range(len(index[token])):\n",
    "                    tup = index[token][i]\n",
    "                    if (tup[0] == n):\n",
    "                        index[token][i] = (n, tup[1] + 1)\n",
    "                        hasDoc = True\n",
    "                if (not hasDoc):\n",
    "                    index[token].append((n,1))\n",
    "            else:\n",
    "                index[token] = [(n,1)]\n",
    "    \n",
    "    for elem in index:\n",
    "        k = len(index[elem])\n",
    "        idf = math.log((M+1)/k)\n",
    "        index[elem].append(idf)\n",
    "    return index\n",
    "\n",
    "index = build_index_with_frequency_and_idf(data)"
   ]
  },
  {
   "cell_type": "markdown",
   "metadata": {},
   "source": [
    "### 3. Implementar as seguintes versões do modelo vetorial:"
   ]
  },
  {
   "cell_type": "markdown",
   "metadata": {},
   "source": [
    "#### Representação binária:"
   ]
  },
  {
   "cell_type": "code",
   "execution_count": 26,
   "metadata": {},
   "outputs": [],
   "source": [
    "def binary_rep(query, doc):\n",
    "    score = 0\n",
    "    query_t = query.split()\n",
    "    doc_t = doc.split()\n",
    "    for t in query_t:\n",
    "        score += (t in doc_t)\n",
    "    return score\n",
    "#for el in data.text:\n",
    "#    print(binary_vsm(\"deputado federal\", el))"
   ]
  },
  {
   "cell_type": "markdown",
   "metadata": {},
   "source": [
    "#### TF"
   ]
  },
  {
   "cell_type": "code",
   "execution_count": 31,
   "metadata": {},
   "outputs": [],
   "source": [
    "def tf(query, doc):\n",
    "    score = 0\n",
    "    doc_t = doc.split()\n",
    "    query_t = query.split()\n",
    "    for t in query_t:\n",
    "        score += doc_t.count(t)\n",
    "    return score\n",
    "#for el in data.text:\n",
    "#    print(tf(\"deputado federal\", el))"
   ]
  },
  {
   "cell_type": "markdown",
   "metadata": {},
   "source": [
    "#### TF-IDF"
   ]
  },
  {
   "cell_type": "code",
   "execution_count": 35,
   "metadata": {},
   "outputs": [],
   "source": [
    "def tfidf(query, doc, index):\n",
    "    score = 0\n",
    "    doc_t = doc.split()\n",
    "    query_t = query.split()\n",
    "    for t in query_t:\n",
    "        count = doc_t.count(t)\n",
    "        if t in index:\n",
    "            score += count * index[t][-1]\n",
    "    return round(score, 2)\n",
    "#index = build_index_with_frequency_and_idf(data)\n",
    "#for el in data.text:\n",
    "#    print(tfidf(\"deputado federal\", el, index))"
   ]
  },
  {
   "cell_type": "markdown",
   "metadata": {},
   "source": [
    "#### BM25"
   ]
  },
  {
   "cell_type": "code",
   "execution_count": 40,
   "metadata": {},
   "outputs": [],
   "source": [
    "def bm25(query, doc, index):\n",
    "    k = 1\n",
    "    M = len(data)\n",
    "    doc_t = doc.split()\n",
    "    query_t = query.split()\n",
    "    words = list(set(doc_t) & set(query_t))\n",
    "    score = 0\n",
    "    for word in words:\n",
    "        cwq = query_t.count(word)\n",
    "        cwd = doc_t.count(word)\n",
    "        dfw = len(index[word][:-1])\n",
    "        y = ((k+1)*cwd)/(cwd+k)\n",
    "        score += cwq * y * math.log((M+1)/dfw)\n",
    "    return score\n",
    "#index = build_index_with_frequency_and_idf(data)\n",
    "#for el in data.text:\n",
    "#    print(bm25(\"deputado federal\", el, index))"
   ]
  },
  {
   "cell_type": "markdown",
   "metadata": {},
   "source": [
    "### 4. Execute os algoritmos separadamente em 3 consultas de sua escolha e retorne os top-5 documentos mais similares à cada consulta"
   ]
  },
  {
   "cell_type": "code",
   "execution_count": 94,
   "metadata": {},
   "outputs": [
    {
     "data": {
      "text/html": [
       "<div>\n",
       "<style>\n",
       "    .dataframe thead tr:only-child th {\n",
       "        text-align: right;\n",
       "    }\n",
       "\n",
       "    .dataframe thead th {\n",
       "        text-align: left;\n",
       "    }\n",
       "\n",
       "    .dataframe tbody tr th {\n",
       "        vertical-align: top;\n",
       "    }\n",
       "</style>\n",
       "<table border=\"1\" class=\"dataframe\">\n",
       "  <thead>\n",
       "    <tr style=\"text-align: right;\">\n",
       "      <th></th>\n",
       "      <th>Query</th>\n",
       "      <th>Binary</th>\n",
       "      <th>TF</th>\n",
       "      <th>TF-IDF</th>\n",
       "      <th>BM25</th>\n",
       "    </tr>\n",
       "  </thead>\n",
       "  <tbody>\n",
       "    <tr>\n",
       "      <th>0</th>\n",
       "      <td>campeonato brasileiro</td>\n",
       "      <td>[(2, 54), (1, 237), (1, 224), (1, 223), (1, 222)]</td>\n",
       "      <td>[(6, 54), (4, 163), (4, 104), (4, 41), (3, 209)]</td>\n",
       "      <td>[(15.73, 54), (6.06, 163), (6.06, 104), (6.06, 41), (4.54, 209)]</td>\n",
       "      <td>[(7.86574377189595, 54), (3.7297014486341915, 55), (3.7297014486341915, 46), (3.7297014486341915, 44), (2.422604372207641, 163)]</td>\n",
       "    </tr>\n",
       "    <tr>\n",
       "      <th>1</th>\n",
       "      <td>ministério público</td>\n",
       "      <td>[(2, 216), (2, 208), (1, 246), (1, 245), (1, 242)]</td>\n",
       "      <td>[(10, 196), (4, 216), (4, 198), (4, 109), (4, 55)]</td>\n",
       "      <td>[(12.45, 196), (5.49, 216), (5.28, 123), (4.98, 198), (4.98, 109)]</td>\n",
       "      <td>[(3.6274530004379706, 216), (3.005055601014875, 208), (2.6403912032530257, 123), (2.3470144028915785, 220), (2.3470144028915785, 114)]</td>\n",
       "    </tr>\n",
       "    <tr>\n",
       "      <th>2</th>\n",
       "      <td>jair bolsonaro</td>\n",
       "      <td>[(0, 248), (0, 247), (0, 246), (0, 245), (0, 244)]</td>\n",
       "      <td>[(0, 248), (0, 247), (0, 246), (0, 245), (0, 244)]</td>\n",
       "      <td>[(0.0, 248), (0.0, 247), (0.0, 246), (0.0, 245), (0.0, 244)]</td>\n",
       "      <td>[(0, 248), (0, 247), (0, 246), (0, 245), (0, 244)]</td>\n",
       "    </tr>\n",
       "  </tbody>\n",
       "</table>\n",
       "</div>"
      ],
      "text/plain": [
       "                   Query                                              Binary  \\\n",
       "0  campeonato brasileiro   [(2, 54), (1, 237), (1, 224), (1, 223), (1, 222)]   \n",
       "1     ministério público  [(2, 216), (2, 208), (1, 246), (1, 245), (1, 242)]   \n",
       "2         jair bolsonaro  [(0, 248), (0, 247), (0, 246), (0, 245), (0, 244)]   \n",
       "\n",
       "                                                   TF  \\\n",
       "0    [(6, 54), (4, 163), (4, 104), (4, 41), (3, 209)]   \n",
       "1  [(10, 196), (4, 216), (4, 198), (4, 109), (4, 55)]   \n",
       "2  [(0, 248), (0, 247), (0, 246), (0, 245), (0, 244)]   \n",
       "\n",
       "                                                               TF-IDF  \\\n",
       "0    [(15.73, 54), (6.06, 163), (6.06, 104), (6.06, 41), (4.54, 209)]   \n",
       "1  [(12.45, 196), (5.49, 216), (5.28, 123), (4.98, 198), (4.98, 109)]   \n",
       "2        [(0.0, 248), (0.0, 247), (0.0, 246), (0.0, 245), (0.0, 244)]   \n",
       "\n",
       "                                                                                                                                     BM25  \n",
       "0        [(7.86574377189595, 54), (3.7297014486341915, 55), (3.7297014486341915, 46), (3.7297014486341915, 44), (2.422604372207641, 163)]  \n",
       "1  [(3.6274530004379706, 216), (3.005055601014875, 208), (2.6403912032530257, 123), (2.3470144028915785, 220), (2.3470144028915785, 114)]  \n",
       "2                                                                                      [(0, 248), (0, 247), (0, 246), (0, 245), (0, 244)]  "
      ]
     },
     "metadata": {},
     "output_type": "display_data"
    }
   ],
   "source": [
    "queries = ['campeonato brasileiro', 'ministério público', 'jair bolsonaro']\n",
    "def top_5(query, index):\n",
    "    doc_id = 0\n",
    "    bin_res = []\n",
    "    tf_res = []\n",
    "    tdidf_res = []\n",
    "    bm25_res = []\n",
    "    for doc in data.text:\n",
    "        bin_res.append((binary_rep(query, doc), doc_id))\n",
    "        tf_res.append((tf(query, doc), doc_id))\n",
    "        tdidf_res.append((tfidf(query, doc, index), doc_id))\n",
    "        bm25_res.append((bm25(query, doc, index), doc_id))\n",
    "        doc_id += 1\n",
    "    bin_res = sorted(bin_res, reverse=True)\n",
    "    tf_res = sorted(tf_res, reverse=True)\n",
    "    tdidf_res = sorted(tdidf_res, reverse=True)\n",
    "    bm25_res = sorted(bm25_res, reverse=True)\n",
    "    return bin_res[:5], tf_res[:5], tdidf_res[:5], bm25_res[:5]\n",
    "top5_binary = [0,0,0]\n",
    "top5_tf = [0,0,0]\n",
    "top5_tfidf = [0,0,0]\n",
    "top5_bm25 = [0,0,0]\n",
    "for i in range(len(queries)):\n",
    "    q = queries[i]\n",
    "    top5_binary[i], top5_tf[i], top5_tfidf[i], top5_bm25[i] = top_5(q, index)\n",
    "\n",
    "pd.options.display.max_colwidth = 500  \n",
    "df = pd.DataFrame()\n",
    "\n",
    "df['Query'] = queries\n",
    "df['Binary'] = top5_binary\n",
    "df['TF'] = top5_tf\n",
    "df['TF-IDF'] = top5_tfidf\n",
    "df['BM25'] = top5_bm25\n",
    "\n",
    "display(df)"
   ]
  },
  {
   "cell_type": "markdown",
   "metadata": {},
   "source": [
    "### 5. Compare os resultados encontrados e responda"
   ]
  },
  {
   "cell_type": "markdown",
   "metadata": {},
   "source": [
    "#### 1. Quais modelos você acha que trouxe os melhores resultados? Por que? Inspecione os documentos retornados para melhor embasar sua resposta"
   ]
  },
  {
   "cell_type": "code",
   "execution_count": 62,
   "metadata": {},
   "outputs": [],
   "source": [
    "pd.options.display.max_colwidth = 500\n",
    "def print_docs(docs):\n",
    "    results_title = []\n",
    "    results_subtitle = []\n",
    "    results_url = []\n",
    "    for doc in docs:\n",
    "        doc_index = doc-1\n",
    "        results_title.append(data.title[doc_index])\n",
    "        results_subtitle.append(data.subtitle[doc_index])\n",
    "        results_url.append(data.url[doc_index])\n",
    "    df_query_0 = pd.DataFrame()\n",
    "    df_query_0[\"title\"] = list(results_title)\n",
    "    df_query_0[\"subtitle\"] = list(results_subtitle)\n",
    "    df_query_0[\"url\"] = list(results_url)\n",
    "    display(df_query_0)\n",
    "    print(\"\\n\")"
   ]
  },
  {
   "cell_type": "markdown",
   "metadata": {},
   "source": [
    "##### query1: campeonato brasileiro"
   ]
  },
  {
   "cell_type": "code",
   "execution_count": 81,
   "metadata": {},
   "outputs": [],
   "source": [
    "binary_docs1 = []\n",
    "tf_docs1 = []\n",
    "tfidf_docs1 = []\n",
    "bm25_docs1 = []\n",
    "\n",
    "for i in range(5):\n",
    "    binary_docs1.append(top5_binary[0][i][1])\n",
    "    tf_docs1.append(top5_tf[0][i][1])\n",
    "    tfidf_docs1.append(top5_tfidf[0][i][1])\n",
    "    bm25_docs1.append(top5_bm25[0][i][1])"
   ]
  },
  {
   "cell_type": "markdown",
   "metadata": {},
   "source": [
    "###### binary"
   ]
  },
  {
   "cell_type": "code",
   "execution_count": 82,
   "metadata": {},
   "outputs": [
    {
     "data": {
      "text/html": [
       "<div>\n",
       "<style>\n",
       "    .dataframe thead tr:only-child th {\n",
       "        text-align: right;\n",
       "    }\n",
       "\n",
       "    .dataframe thead th {\n",
       "        text-align: left;\n",
       "    }\n",
       "\n",
       "    .dataframe tbody tr th {\n",
       "        vertical-align: top;\n",
       "    }\n",
       "</style>\n",
       "<table border=\"1\" class=\"dataframe\">\n",
       "  <thead>\n",
       "    <tr style=\"text-align: right;\">\n",
       "      <th></th>\n",
       "      <th>title</th>\n",
       "      <th>subtitle</th>\n",
       "      <th>url</th>\n",
       "    </tr>\n",
       "  </thead>\n",
       "  <tbody>\n",
       "    <tr>\n",
       "      <th>0</th>\n",
       "      <td>Sorteio coloca Manchester United contra o Barcelona nas quartas da Champions League</td>\n",
       "      <td>Ajax x Juventus  Liverpool x Porto e Tottenham x Manchester City são os outros confrontos. Sorteio também definiu chaveamento até a final</td>\n",
       "      <td>https://brasil.elpais.com/brasil/2019/03/14/deportes/1552585179_394268.html</td>\n",
       "    </tr>\n",
       "    <tr>\n",
       "      <th>1</th>\n",
       "      <td>Bolsonaro anuncia 13º salário para o Bolsa Família para marcar 100 dias no poder</td>\n",
       "      <td>Presidente fez anúncio em 'live' no Facebook nesta quinta-feira ao lado de Sergio Moro</td>\n",
       "      <td>https://brasil.elpais.com/brasil/2019/04/05/politica/1554416098_449063.html</td>\n",
       "    </tr>\n",
       "    <tr>\n",
       "      <th>2</th>\n",
       "      <td>A regra de sangue da Operação Condor  a aliança mortífera das ditaduras do Cone Sul</td>\n",
       "      <td>A Operação Condor  aliança entre Brasil  Argentina  Chile  Uruguai  Paraguai e Bolívia  permitiu a troca de informações e livre trânsito para perseguir  torturar e matar opositores da ditadura no continente</td>\n",
       "      <td>https://brasil.elpais.com/brasil/2019/03/29/politica/1553895462_193096.html</td>\n",
       "    </tr>\n",
       "    <tr>\n",
       "      <th>3</th>\n",
       "      <td>“Não me arrependo de nada”</td>\n",
       "      <td>Procurador do caso Herzog que acobertou torturadores e pediu pena de morte para militantes  Durval Ayrton Moura de Araújo  de 99 anos  conversa com o EL PAÍS</td>\n",
       "      <td>https://brasil.elpais.com/brasil/2019/03/28/politica/1553789942_315053.html</td>\n",
       "    </tr>\n",
       "    <tr>\n",
       "      <th>4</th>\n",
       "      <td>A jovem deputada que jogou contra as cordas o ministro da Educação e sua “lista de desejos”</td>\n",
       "      <td>Neófita no Congresso  Tabata Amaral (PDT-SP) sugere que Ricardo Vélez se demita do MEC  o deixa em silêncio  e agrava ainda mais a situação do ministro olavista de Bolsonaro</td>\n",
       "      <td>https://brasil.elpais.com/brasil/2019/03/28/politica/1553801628_869241.html</td>\n",
       "    </tr>\n",
       "  </tbody>\n",
       "</table>\n",
       "</div>"
      ],
      "text/plain": [
       "                                                                                         title  \\\n",
       "0          Sorteio coloca Manchester United contra o Barcelona nas quartas da Champions League   \n",
       "1             Bolsonaro anuncia 13º salário para o Bolsa Família para marcar 100 dias no poder   \n",
       "2          A regra de sangue da Operação Condor  a aliança mortífera das ditaduras do Cone Sul   \n",
       "3                                                                   “Não me arrependo de nada”   \n",
       "4  A jovem deputada que jogou contra as cordas o ministro da Educação e sua “lista de desejos”   \n",
       "\n",
       "                                                                                                                                                                                                         subtitle  \\\n",
       "0                                                                       Ajax x Juventus  Liverpool x Porto e Tottenham x Manchester City são os outros confrontos. Sorteio também definiu chaveamento até a final   \n",
       "1                                                                                                                          Presidente fez anúncio em 'live' no Facebook nesta quinta-feira ao lado de Sergio Moro   \n",
       "2  A Operação Condor  aliança entre Brasil  Argentina  Chile  Uruguai  Paraguai e Bolívia  permitiu a troca de informações e livre trânsito para perseguir  torturar e matar opositores da ditadura no continente   \n",
       "3                                                   Procurador do caso Herzog que acobertou torturadores e pediu pena de morte para militantes  Durval Ayrton Moura de Araújo  de 99 anos  conversa com o EL PAÍS   \n",
       "4                                   Neófita no Congresso  Tabata Amaral (PDT-SP) sugere que Ricardo Vélez se demita do MEC  o deixa em silêncio  e agrava ainda mais a situação do ministro olavista de Bolsonaro   \n",
       "\n",
       "                                                                           url  \n",
       "0  https://brasil.elpais.com/brasil/2019/03/14/deportes/1552585179_394268.html  \n",
       "1  https://brasil.elpais.com/brasil/2019/04/05/politica/1554416098_449063.html  \n",
       "2  https://brasil.elpais.com/brasil/2019/03/29/politica/1553895462_193096.html  \n",
       "3  https://brasil.elpais.com/brasil/2019/03/28/politica/1553789942_315053.html  \n",
       "4  https://brasil.elpais.com/brasil/2019/03/28/politica/1553801628_869241.html  "
      ]
     },
     "metadata": {},
     "output_type": "display_data"
    },
    {
     "name": "stdout",
     "output_type": "stream",
     "text": [
      "\n",
      "\n"
     ]
    }
   ],
   "source": [
    "print_docs(binary_docs1)"
   ]
  },
  {
   "cell_type": "markdown",
   "metadata": {},
   "source": [
    "###### TF"
   ]
  },
  {
   "cell_type": "code",
   "execution_count": 83,
   "metadata": {},
   "outputs": [
    {
     "data": {
      "text/html": [
       "<div>\n",
       "<style>\n",
       "    .dataframe thead tr:only-child th {\n",
       "        text-align: right;\n",
       "    }\n",
       "\n",
       "    .dataframe thead th {\n",
       "        text-align: left;\n",
       "    }\n",
       "\n",
       "    .dataframe tbody tr th {\n",
       "        vertical-align: top;\n",
       "    }\n",
       "</style>\n",
       "<table border=\"1\" class=\"dataframe\">\n",
       "  <thead>\n",
       "    <tr style=\"text-align: right;\">\n",
       "      <th></th>\n",
       "      <th>title</th>\n",
       "      <th>subtitle</th>\n",
       "      <th>url</th>\n",
       "    </tr>\n",
       "  </thead>\n",
       "  <tbody>\n",
       "    <tr>\n",
       "      <th>0</th>\n",
       "      <td>Sorteio coloca Manchester United contra o Barcelona nas quartas da Champions League</td>\n",
       "      <td>Ajax x Juventus  Liverpool x Porto e Tottenham x Manchester City são os outros confrontos. Sorteio também definiu chaveamento até a final</td>\n",
       "      <td>https://brasil.elpais.com/brasil/2019/03/14/deportes/1552585179_394268.html</td>\n",
       "    </tr>\n",
       "    <tr>\n",
       "      <th>1</th>\n",
       "      <td>A era dos reptilianos</td>\n",
       "      <td>As teorias da conspiração pressupõem que os dois lados de uma disputa científica ou social devem ter a mesma veracidade</td>\n",
       "      <td>https://brasil.elpais.com/brasil/2019/03/21/opinion/1553190541_750395.html</td>\n",
       "    </tr>\n",
       "    <tr>\n",
       "      <th>2</th>\n",
       "      <td>Cúpula militar uruguaia cai após revelação de crimes da ditadura</td>\n",
       "      <td>Presidente reage a um escândalo relacionado a crimes de lesa-humanidade cometidos durante a ditadura</td>\n",
       "      <td>https://brasil.elpais.com/brasil/2019/04/01/internacional/1554141574_437551.html</td>\n",
       "    </tr>\n",
       "    <tr>\n",
       "      <th>3</th>\n",
       "      <td>Turim se apaixona por Cristiano Ronaldo</td>\n",
       "      <td>Juventus o blindou diante do caso de suposto estupro  e ele oferece ao time sua melhor versão.</td>\n",
       "      <td>https://brasil.elpais.com/brasil/2019/02/17/deportes/1550427113_361941.html</td>\n",
       "    </tr>\n",
       "    <tr>\n",
       "      <th>4</th>\n",
       "      <td>Paulo Guedes cancela ida à Câmara para defender reforma da Previdência e acirra tensão com o Legislativo</td>\n",
       "      <td>Ministro da Economia ia em 'missão de paz' para explicar projeto de reforma na CCJ e tentar atenuar crise entre Governo e Rodrigo Maia. Desistência de Guedes foi criticada</td>\n",
       "      <td>https://brasil.elpais.com/brasil/2019/03/26/politica/1553607037_149988.html</td>\n",
       "    </tr>\n",
       "  </tbody>\n",
       "</table>\n",
       "</div>"
      ],
      "text/plain": [
       "                                                                                                      title  \\\n",
       "0                       Sorteio coloca Manchester United contra o Barcelona nas quartas da Champions League   \n",
       "1                                                                                     A era dos reptilianos   \n",
       "2                                          Cúpula militar uruguaia cai após revelação de crimes da ditadura   \n",
       "3                                                                   Turim se apaixona por Cristiano Ronaldo   \n",
       "4  Paulo Guedes cancela ida à Câmara para defender reforma da Previdência e acirra tensão com o Legislativo   \n",
       "\n",
       "                                                                                                                                                                      subtitle  \\\n",
       "0                                    Ajax x Juventus  Liverpool x Porto e Tottenham x Manchester City são os outros confrontos. Sorteio também definiu chaveamento até a final   \n",
       "1                                                      As teorias da conspiração pressupõem que os dois lados de uma disputa científica ou social devem ter a mesma veracidade   \n",
       "2                                                                         Presidente reage a um escândalo relacionado a crimes de lesa-humanidade cometidos durante a ditadura   \n",
       "3                                                                               Juventus o blindou diante do caso de suposto estupro  e ele oferece ao time sua melhor versão.   \n",
       "4  Ministro da Economia ia em 'missão de paz' para explicar projeto de reforma na CCJ e tentar atenuar crise entre Governo e Rodrigo Maia. Desistência de Guedes foi criticada   \n",
       "\n",
       "                                                                                url  \n",
       "0       https://brasil.elpais.com/brasil/2019/03/14/deportes/1552585179_394268.html  \n",
       "1        https://brasil.elpais.com/brasil/2019/03/21/opinion/1553190541_750395.html  \n",
       "2  https://brasil.elpais.com/brasil/2019/04/01/internacional/1554141574_437551.html  \n",
       "3       https://brasil.elpais.com/brasil/2019/02/17/deportes/1550427113_361941.html  \n",
       "4       https://brasil.elpais.com/brasil/2019/03/26/politica/1553607037_149988.html  "
      ]
     },
     "metadata": {},
     "output_type": "display_data"
    },
    {
     "name": "stdout",
     "output_type": "stream",
     "text": [
      "\n",
      "\n"
     ]
    }
   ],
   "source": [
    "print_docs(tf_docs1)"
   ]
  },
  {
   "cell_type": "markdown",
   "metadata": {},
   "source": [
    "###### TF-IDF"
   ]
  },
  {
   "cell_type": "code",
   "execution_count": 84,
   "metadata": {},
   "outputs": [
    {
     "data": {
      "text/html": [
       "<div>\n",
       "<style>\n",
       "    .dataframe thead tr:only-child th {\n",
       "        text-align: right;\n",
       "    }\n",
       "\n",
       "    .dataframe thead th {\n",
       "        text-align: left;\n",
       "    }\n",
       "\n",
       "    .dataframe tbody tr th {\n",
       "        vertical-align: top;\n",
       "    }\n",
       "</style>\n",
       "<table border=\"1\" class=\"dataframe\">\n",
       "  <thead>\n",
       "    <tr style=\"text-align: right;\">\n",
       "      <th></th>\n",
       "      <th>title</th>\n",
       "      <th>subtitle</th>\n",
       "      <th>url</th>\n",
       "    </tr>\n",
       "  </thead>\n",
       "  <tbody>\n",
       "    <tr>\n",
       "      <th>0</th>\n",
       "      <td>Sorteio coloca Manchester United contra o Barcelona nas quartas da Champions League</td>\n",
       "      <td>Ajax x Juventus  Liverpool x Porto e Tottenham x Manchester City são os outros confrontos. Sorteio também definiu chaveamento até a final</td>\n",
       "      <td>https://brasil.elpais.com/brasil/2019/03/14/deportes/1552585179_394268.html</td>\n",
       "    </tr>\n",
       "    <tr>\n",
       "      <th>1</th>\n",
       "      <td>A era dos reptilianos</td>\n",
       "      <td>As teorias da conspiração pressupõem que os dois lados de uma disputa científica ou social devem ter a mesma veracidade</td>\n",
       "      <td>https://brasil.elpais.com/brasil/2019/03/21/opinion/1553190541_750395.html</td>\n",
       "    </tr>\n",
       "    <tr>\n",
       "      <th>2</th>\n",
       "      <td>Cúpula militar uruguaia cai após revelação de crimes da ditadura</td>\n",
       "      <td>Presidente reage a um escândalo relacionado a crimes de lesa-humanidade cometidos durante a ditadura</td>\n",
       "      <td>https://brasil.elpais.com/brasil/2019/04/01/internacional/1554141574_437551.html</td>\n",
       "    </tr>\n",
       "    <tr>\n",
       "      <th>3</th>\n",
       "      <td>Turim se apaixona por Cristiano Ronaldo</td>\n",
       "      <td>Juventus o blindou diante do caso de suposto estupro  e ele oferece ao time sua melhor versão.</td>\n",
       "      <td>https://brasil.elpais.com/brasil/2019/02/17/deportes/1550427113_361941.html</td>\n",
       "    </tr>\n",
       "    <tr>\n",
       "      <th>4</th>\n",
       "      <td>Paulo Guedes cancela ida à Câmara para defender reforma da Previdência e acirra tensão com o Legislativo</td>\n",
       "      <td>Ministro da Economia ia em 'missão de paz' para explicar projeto de reforma na CCJ e tentar atenuar crise entre Governo e Rodrigo Maia. Desistência de Guedes foi criticada</td>\n",
       "      <td>https://brasil.elpais.com/brasil/2019/03/26/politica/1553607037_149988.html</td>\n",
       "    </tr>\n",
       "  </tbody>\n",
       "</table>\n",
       "</div>"
      ],
      "text/plain": [
       "                                                                                                      title  \\\n",
       "0                       Sorteio coloca Manchester United contra o Barcelona nas quartas da Champions League   \n",
       "1                                                                                     A era dos reptilianos   \n",
       "2                                          Cúpula militar uruguaia cai após revelação de crimes da ditadura   \n",
       "3                                                                   Turim se apaixona por Cristiano Ronaldo   \n",
       "4  Paulo Guedes cancela ida à Câmara para defender reforma da Previdência e acirra tensão com o Legislativo   \n",
       "\n",
       "                                                                                                                                                                      subtitle  \\\n",
       "0                                    Ajax x Juventus  Liverpool x Porto e Tottenham x Manchester City são os outros confrontos. Sorteio também definiu chaveamento até a final   \n",
       "1                                                      As teorias da conspiração pressupõem que os dois lados de uma disputa científica ou social devem ter a mesma veracidade   \n",
       "2                                                                         Presidente reage a um escândalo relacionado a crimes de lesa-humanidade cometidos durante a ditadura   \n",
       "3                                                                               Juventus o blindou diante do caso de suposto estupro  e ele oferece ao time sua melhor versão.   \n",
       "4  Ministro da Economia ia em 'missão de paz' para explicar projeto de reforma na CCJ e tentar atenuar crise entre Governo e Rodrigo Maia. Desistência de Guedes foi criticada   \n",
       "\n",
       "                                                                                url  \n",
       "0       https://brasil.elpais.com/brasil/2019/03/14/deportes/1552585179_394268.html  \n",
       "1        https://brasil.elpais.com/brasil/2019/03/21/opinion/1553190541_750395.html  \n",
       "2  https://brasil.elpais.com/brasil/2019/04/01/internacional/1554141574_437551.html  \n",
       "3       https://brasil.elpais.com/brasil/2019/02/17/deportes/1550427113_361941.html  \n",
       "4       https://brasil.elpais.com/brasil/2019/03/26/politica/1553607037_149988.html  "
      ]
     },
     "metadata": {},
     "output_type": "display_data"
    },
    {
     "name": "stdout",
     "output_type": "stream",
     "text": [
      "\n",
      "\n"
     ]
    }
   ],
   "source": [
    "print_docs(tfidf_docs1)"
   ]
  },
  {
   "cell_type": "markdown",
   "metadata": {},
   "source": [
    "###### BM25"
   ]
  },
  {
   "cell_type": "code",
   "execution_count": 85,
   "metadata": {},
   "outputs": [
    {
     "data": {
      "text/html": [
       "<div>\n",
       "<style>\n",
       "    .dataframe thead tr:only-child th {\n",
       "        text-align: right;\n",
       "    }\n",
       "\n",
       "    .dataframe thead th {\n",
       "        text-align: left;\n",
       "    }\n",
       "\n",
       "    .dataframe tbody tr th {\n",
       "        vertical-align: top;\n",
       "    }\n",
       "</style>\n",
       "<table border=\"1\" class=\"dataframe\">\n",
       "  <thead>\n",
       "    <tr style=\"text-align: right;\">\n",
       "      <th></th>\n",
       "      <th>title</th>\n",
       "      <th>subtitle</th>\n",
       "      <th>url</th>\n",
       "    </tr>\n",
       "  </thead>\n",
       "  <tbody>\n",
       "    <tr>\n",
       "      <th>0</th>\n",
       "      <td>Sorteio coloca Manchester United contra o Barcelona nas quartas da Champions League</td>\n",
       "      <td>Ajax x Juventus  Liverpool x Porto e Tottenham x Manchester City são os outros confrontos. Sorteio também definiu chaveamento até a final</td>\n",
       "      <td>https://brasil.elpais.com/brasil/2019/03/14/deportes/1552585179_394268.html</td>\n",
       "    </tr>\n",
       "    <tr>\n",
       "      <th>1</th>\n",
       "      <td>Eder Militão  o zagueiro mais caro da história do Real Madrid e primeiro reforço de Zidane</td>\n",
       "      <td>Revelado pelo São Paulo  o versátil defensor foi comprado do Porto por 50 milhões de euros e chega ao fim da temporada</td>\n",
       "      <td>https://brasil.elpais.com/brasil/2019/03/14/deportes/1552561571_389016.html</td>\n",
       "    </tr>\n",
       "    <tr>\n",
       "      <th>2</th>\n",
       "      <td>O trágico destino de Tom Ballard</td>\n",
       "      <td>Filho da alpinista Alison Hargreaves  morta no pico do K2 em 1995  o inglês perdeu o contato ao tentar uma ascensão invernal do Nanga Parbat (8.125 metros) com o italiano Daniele Nardi</td>\n",
       "      <td>https://brasil.elpais.com/brasil/2019/03/02/deportes/1551530086_689843.html</td>\n",
       "    </tr>\n",
       "    <tr>\n",
       "      <th>3</th>\n",
       "      <td>Onde e como assistir a Real Madrid x Barcelona pelo Campeonato Espanhol</td>\n",
       "      <td>Depois da vitória catalã na Copa  rivais voltam a se encontrar no Santiago Bernabéu pela Liga</td>\n",
       "      <td>https://brasil.elpais.com/brasil/2019/03/01/deportes/1551476564_723854.html</td>\n",
       "    </tr>\n",
       "    <tr>\n",
       "      <th>4</th>\n",
       "      <td>A era dos reptilianos</td>\n",
       "      <td>As teorias da conspiração pressupõem que os dois lados de uma disputa científica ou social devem ter a mesma veracidade</td>\n",
       "      <td>https://brasil.elpais.com/brasil/2019/03/21/opinion/1553190541_750395.html</td>\n",
       "    </tr>\n",
       "  </tbody>\n",
       "</table>\n",
       "</div>"
      ],
      "text/plain": [
       "                                                                                        title  \\\n",
       "0         Sorteio coloca Manchester United contra o Barcelona nas quartas da Champions League   \n",
       "1  Eder Militão  o zagueiro mais caro da história do Real Madrid e primeiro reforço de Zidane   \n",
       "2                                                            O trágico destino de Tom Ballard   \n",
       "3                     Onde e como assistir a Real Madrid x Barcelona pelo Campeonato Espanhol   \n",
       "4                                                                       A era dos reptilianos   \n",
       "\n",
       "                                                                                                                                                                                   subtitle  \\\n",
       "0                                                 Ajax x Juventus  Liverpool x Porto e Tottenham x Manchester City são os outros confrontos. Sorteio também definiu chaveamento até a final   \n",
       "1                                                                    Revelado pelo São Paulo  o versátil defensor foi comprado do Porto por 50 milhões de euros e chega ao fim da temporada   \n",
       "2  Filho da alpinista Alison Hargreaves  morta no pico do K2 em 1995  o inglês perdeu o contato ao tentar uma ascensão invernal do Nanga Parbat (8.125 metros) com o italiano Daniele Nardi   \n",
       "3                                                                                             Depois da vitória catalã na Copa  rivais voltam a se encontrar no Santiago Bernabéu pela Liga   \n",
       "4                                                                   As teorias da conspiração pressupõem que os dois lados de uma disputa científica ou social devem ter a mesma veracidade   \n",
       "\n",
       "                                                                           url  \n",
       "0  https://brasil.elpais.com/brasil/2019/03/14/deportes/1552585179_394268.html  \n",
       "1  https://brasil.elpais.com/brasil/2019/03/14/deportes/1552561571_389016.html  \n",
       "2  https://brasil.elpais.com/brasil/2019/03/02/deportes/1551530086_689843.html  \n",
       "3  https://brasil.elpais.com/brasil/2019/03/01/deportes/1551476564_723854.html  \n",
       "4   https://brasil.elpais.com/brasil/2019/03/21/opinion/1553190541_750395.html  "
      ]
     },
     "metadata": {},
     "output_type": "display_data"
    },
    {
     "name": "stdout",
     "output_type": "stream",
     "text": [
      "\n",
      "\n"
     ]
    }
   ],
   "source": [
    "print_docs(bm25_docs1)"
   ]
  },
  {
   "cell_type": "markdown",
   "metadata": {},
   "source": [
    "Observando os títulos, podemos ver que o modelo **BM25** se saiu melhor nessa query, pois possui mais resultados de notícias relacionadas ao esporte do que os outros modelos."
   ]
  },
  {
   "cell_type": "markdown",
   "metadata": {},
   "source": [
    "##### query2: ministério público"
   ]
  },
  {
   "cell_type": "code",
   "execution_count": 87,
   "metadata": {
    "collapsed": true
   },
   "outputs": [],
   "source": [
    "binary_docs2 = []\n",
    "tf_docs2 = []\n",
    "tfidf_docs2 = []\n",
    "bm25_docs2 = []\n",
    "\n",
    "for i in range(5):\n",
    "    binary_docs2.append(top5_binary[1][i][1])\n",
    "    tf_docs2.append(top5_tf[1][i][1])\n",
    "    tfidf_docs2.append(top5_tfidf[1][i][1])\n",
    "    bm25_docs2.append(top5_bm25[1][i][1])"
   ]
  },
  {
   "cell_type": "markdown",
   "metadata": {},
   "source": [
    "###### binary"
   ]
  },
  {
   "cell_type": "code",
   "execution_count": 88,
   "metadata": {},
   "outputs": [
    {
     "data": {
      "text/html": [
       "<div>\n",
       "<style>\n",
       "    .dataframe thead tr:only-child th {\n",
       "        text-align: right;\n",
       "    }\n",
       "\n",
       "    .dataframe thead th {\n",
       "        text-align: left;\n",
       "    }\n",
       "\n",
       "    .dataframe tbody tr th {\n",
       "        vertical-align: top;\n",
       "    }\n",
       "</style>\n",
       "<table border=\"1\" class=\"dataframe\">\n",
       "  <thead>\n",
       "    <tr style=\"text-align: right;\">\n",
       "      <th></th>\n",
       "      <th>title</th>\n",
       "      <th>subtitle</th>\n",
       "      <th>url</th>\n",
       "    </tr>\n",
       "  </thead>\n",
       "  <tbody>\n",
       "    <tr>\n",
       "      <th>0</th>\n",
       "      <td>Um Brasil de dedo em riste às portas do Mackenzie</td>\n",
       "      <td>A expectativa de uma visita do presidente Jair Bolsonaro à universidade em São Paulo  cenário emblemático da luta estudantil durante a ditadura  gerou embates inflamados entre estudantes e bolsonaristas</td>\n",
       "      <td>https://brasil.elpais.com/brasil/2019/03/27/politica/1553717682_889482.html</td>\n",
       "    </tr>\n",
       "    <tr>\n",
       "      <th>1</th>\n",
       "      <td>Bolsonaro escancara cadáver insepulto da ditadura com celebração do golpe</td>\n",
       "      <td>Com medida simbólica  presidente determinou que Forças Armadas façam \"comemorações devidas\" da data</td>\n",
       "      <td>https://brasil.elpais.com/brasil/2019/03/26/politica/1553609505_570456.html</td>\n",
       "    </tr>\n",
       "    <tr>\n",
       "      <th>2</th>\n",
       "      <td>Israel ataca Gaza e o Hamas lança foguetes apesar do anúncio de cessar-fogo</td>\n",
       "      <td>Exército concentra tropas e limita as atividades civis na fronteira do enclave palestino</td>\n",
       "      <td>https://brasil.elpais.com/brasil/2019/03/26/internacional/1553587140_841439.html</td>\n",
       "    </tr>\n",
       "    <tr>\n",
       "      <th>3</th>\n",
       "      <td>Forças curdo-árabes anunciam a queda do último bastião do ISIS na Síria</td>\n",
       "      <td>As milícias da coalizão anunciaram na manhã de sábado o fim do califado do Estado Islâmico depois de quase cinco anos de combates</td>\n",
       "      <td>https://brasil.elpais.com/brasil/2019/03/23/internacional/1553329466_793785.html</td>\n",
       "    </tr>\n",
       "    <tr>\n",
       "      <th>4</th>\n",
       "      <td>‘Malhação’ joga luz sobre o abuso sexual no futebol</td>\n",
       "      <td>Alerta de assédio a jovens atletas em categorias de base chega à TV  mas ainda é tabu dentro dos clubes</td>\n",
       "      <td>https://brasil.elpais.com/brasil/2019/03/18/deportes/1552944014_726009.html</td>\n",
       "    </tr>\n",
       "  </tbody>\n",
       "</table>\n",
       "</div>"
      ],
      "text/plain": [
       "                                                                         title  \\\n",
       "0                            Um Brasil de dedo em riste às portas do Mackenzie   \n",
       "1    Bolsonaro escancara cadáver insepulto da ditadura com celebração do golpe   \n",
       "2  Israel ataca Gaza e o Hamas lança foguetes apesar do anúncio de cessar-fogo   \n",
       "3      Forças curdo-árabes anunciam a queda do último bastião do ISIS na Síria   \n",
       "4                          ‘Malhação’ joga luz sobre o abuso sexual no futebol   \n",
       "\n",
       "                                                                                                                                                                                                     subtitle  \\\n",
       "0  A expectativa de uma visita do presidente Jair Bolsonaro à universidade em São Paulo  cenário emblemático da luta estudantil durante a ditadura  gerou embates inflamados entre estudantes e bolsonaristas   \n",
       "1                                                                                                         Com medida simbólica  presidente determinou que Forças Armadas façam \"comemorações devidas\" da data   \n",
       "2                                                                                                                    Exército concentra tropas e limita as atividades civis na fronteira do enclave palestino   \n",
       "3                                                                           As milícias da coalizão anunciaram na manhã de sábado o fim do califado do Estado Islâmico depois de quase cinco anos de combates   \n",
       "4                                                                                                     Alerta de assédio a jovens atletas em categorias de base chega à TV  mas ainda é tabu dentro dos clubes   \n",
       "\n",
       "                                                                                url  \n",
       "0       https://brasil.elpais.com/brasil/2019/03/27/politica/1553717682_889482.html  \n",
       "1       https://brasil.elpais.com/brasil/2019/03/26/politica/1553609505_570456.html  \n",
       "2  https://brasil.elpais.com/brasil/2019/03/26/internacional/1553587140_841439.html  \n",
       "3  https://brasil.elpais.com/brasil/2019/03/23/internacional/1553329466_793785.html  \n",
       "4       https://brasil.elpais.com/brasil/2019/03/18/deportes/1552944014_726009.html  "
      ]
     },
     "metadata": {},
     "output_type": "display_data"
    },
    {
     "name": "stdout",
     "output_type": "stream",
     "text": [
      "\n",
      "\n"
     ]
    }
   ],
   "source": [
    "print_docs(binary_docs2)"
   ]
  },
  {
   "cell_type": "markdown",
   "metadata": {},
   "source": [
    "###### TF"
   ]
  },
  {
   "cell_type": "code",
   "execution_count": 92,
   "metadata": {},
   "outputs": [
    {
     "data": {
      "text/html": [
       "<div>\n",
       "<style>\n",
       "    .dataframe thead tr:only-child th {\n",
       "        text-align: right;\n",
       "    }\n",
       "\n",
       "    .dataframe thead th {\n",
       "        text-align: left;\n",
       "    }\n",
       "\n",
       "    .dataframe tbody tr th {\n",
       "        vertical-align: top;\n",
       "    }\n",
       "</style>\n",
       "<table border=\"1\" class=\"dataframe\">\n",
       "  <thead>\n",
       "    <tr style=\"text-align: right;\">\n",
       "      <th></th>\n",
       "      <th>title</th>\n",
       "      <th>subtitle</th>\n",
       "      <th>url</th>\n",
       "    </tr>\n",
       "  </thead>\n",
       "  <tbody>\n",
       "    <tr>\n",
       "      <th>0</th>\n",
       "      <td>Tudo funciona bem em Mick Jagger  menos o coração</td>\n",
       "      <td>O cantor  de 75 anos  se cuida mais que nunca. Pratica esporte  medita e não bebe  mas isso não evitou que tenha de ser operado por um problema cardíaco</td>\n",
       "      <td>https://brasil.elpais.com/brasil/2019/04/02/cultura/1554221535_416406.html</td>\n",
       "    </tr>\n",
       "    <tr>\n",
       "      <th>1</th>\n",
       "      <td>Um Brasil de dedo em riste às portas do Mackenzie</td>\n",
       "      <td>A expectativa de uma visita do presidente Jair Bolsonaro à universidade em São Paulo  cenário emblemático da luta estudantil durante a ditadura  gerou embates inflamados entre estudantes e bolsonaristas</td>\n",
       "      <td>https://brasil.elpais.com/brasil/2019/03/27/politica/1553717682_889482.html</td>\n",
       "    </tr>\n",
       "    <tr>\n",
       "      <th>2</th>\n",
       "      <td>Todos os filmes de Tim Burton  do pior ao melhor</td>\n",
       "      <td>Aproveitamos a recente estreia de 'Dumbo' para pedir esse ranking a Rubén Romero  crítico de cinema  professor de Comunicação Audiovisual da Universidade Carlos III e especialista no cinema do diretor que gosta de jovens estranhos</td>\n",
       "      <td>https://brasil.elpais.com/brasil/2019/03/28/cultura/1553773473_512189.html</td>\n",
       "    </tr>\n",
       "    <tr>\n",
       "      <th>3</th>\n",
       "      <td>A ascensão imparável das ‘cholitas escaladoras’</td>\n",
       "      <td>Símbolo da luta pela visibilidade das indígenas na Bolívia  um grupo de mulheres aimarás acaba de completar seu último desafio: chegar ao cume do Aconcágua  o mais alto da América</td>\n",
       "      <td>https://brasil.elpais.com/brasil/2019/03/22/internacional/1553277982_341963.html</td>\n",
       "    </tr>\n",
       "    <tr>\n",
       "      <th>4</th>\n",
       "      <td>Eder Militão  o zagueiro mais caro da história do Real Madrid e primeiro reforço de Zidane</td>\n",
       "      <td>Revelado pelo São Paulo  o versátil defensor foi comprado do Porto por 50 milhões de euros e chega ao fim da temporada</td>\n",
       "      <td>https://brasil.elpais.com/brasil/2019/03/14/deportes/1552561571_389016.html</td>\n",
       "    </tr>\n",
       "  </tbody>\n",
       "</table>\n",
       "</div>"
      ],
      "text/plain": [
       "                                                                                        title  \\\n",
       "0                                           Tudo funciona bem em Mick Jagger  menos o coração   \n",
       "1                                           Um Brasil de dedo em riste às portas do Mackenzie   \n",
       "2                                            Todos os filmes de Tim Burton  do pior ao melhor   \n",
       "3                                             A ascensão imparável das ‘cholitas escaladoras’   \n",
       "4  Eder Militão  o zagueiro mais caro da história do Real Madrid e primeiro reforço de Zidane   \n",
       "\n",
       "                                                                                                                                                                                                                                 subtitle  \\\n",
       "0                                                                                O cantor  de 75 anos  se cuida mais que nunca. Pratica esporte  medita e não bebe  mas isso não evitou que tenha de ser operado por um problema cardíaco   \n",
       "1                              A expectativa de uma visita do presidente Jair Bolsonaro à universidade em São Paulo  cenário emblemático da luta estudantil durante a ditadura  gerou embates inflamados entre estudantes e bolsonaristas   \n",
       "2  Aproveitamos a recente estreia de 'Dumbo' para pedir esse ranking a Rubén Romero  crítico de cinema  professor de Comunicação Audiovisual da Universidade Carlos III e especialista no cinema do diretor que gosta de jovens estranhos   \n",
       "3                                                     Símbolo da luta pela visibilidade das indígenas na Bolívia  um grupo de mulheres aimarás acaba de completar seu último desafio: chegar ao cume do Aconcágua  o mais alto da América   \n",
       "4                                                                                                                  Revelado pelo São Paulo  o versátil defensor foi comprado do Porto por 50 milhões de euros e chega ao fim da temporada   \n",
       "\n",
       "                                                                                url  \n",
       "0        https://brasil.elpais.com/brasil/2019/04/02/cultura/1554221535_416406.html  \n",
       "1       https://brasil.elpais.com/brasil/2019/03/27/politica/1553717682_889482.html  \n",
       "2        https://brasil.elpais.com/brasil/2019/03/28/cultura/1553773473_512189.html  \n",
       "3  https://brasil.elpais.com/brasil/2019/03/22/internacional/1553277982_341963.html  \n",
       "4       https://brasil.elpais.com/brasil/2019/03/14/deportes/1552561571_389016.html  "
      ]
     },
     "metadata": {},
     "output_type": "display_data"
    },
    {
     "name": "stdout",
     "output_type": "stream",
     "text": [
      "\n",
      "\n"
     ]
    }
   ],
   "source": [
    "print_docs(tf_docs2)"
   ]
  },
  {
   "cell_type": "markdown",
   "metadata": {},
   "source": [
    "###### TF-IDF"
   ]
  },
  {
   "cell_type": "code",
   "execution_count": 90,
   "metadata": {},
   "outputs": [
    {
     "data": {
      "text/html": [
       "<div>\n",
       "<style>\n",
       "    .dataframe thead tr:only-child th {\n",
       "        text-align: right;\n",
       "    }\n",
       "\n",
       "    .dataframe thead th {\n",
       "        text-align: left;\n",
       "    }\n",
       "\n",
       "    .dataframe tbody tr th {\n",
       "        vertical-align: top;\n",
       "    }\n",
       "</style>\n",
       "<table border=\"1\" class=\"dataframe\">\n",
       "  <thead>\n",
       "    <tr style=\"text-align: right;\">\n",
       "      <th></th>\n",
       "      <th>title</th>\n",
       "      <th>subtitle</th>\n",
       "      <th>url</th>\n",
       "    </tr>\n",
       "  </thead>\n",
       "  <tbody>\n",
       "    <tr>\n",
       "      <th>0</th>\n",
       "      <td>Tudo funciona bem em Mick Jagger  menos o coração</td>\n",
       "      <td>O cantor  de 75 anos  se cuida mais que nunca. Pratica esporte  medita e não bebe  mas isso não evitou que tenha de ser operado por um problema cardíaco</td>\n",
       "      <td>https://brasil.elpais.com/brasil/2019/04/02/cultura/1554221535_416406.html</td>\n",
       "    </tr>\n",
       "    <tr>\n",
       "      <th>1</th>\n",
       "      <td>Um Brasil de dedo em riste às portas do Mackenzie</td>\n",
       "      <td>A expectativa de uma visita do presidente Jair Bolsonaro à universidade em São Paulo  cenário emblemático da luta estudantil durante a ditadura  gerou embates inflamados entre estudantes e bolsonaristas</td>\n",
       "      <td>https://brasil.elpais.com/brasil/2019/03/27/politica/1553717682_889482.html</td>\n",
       "    </tr>\n",
       "    <tr>\n",
       "      <th>2</th>\n",
       "      <td>OIT alerta para precarização do emprego em nível mundial</td>\n",
       "      <td>Trabalho temporário volta a crescer na Europa  mesmo após reformas. Na América Latina  recuperação econômica terá efeito modesto na geração de emprego</td>\n",
       "      <td>https://brasil.elpais.com/brasil/2019/02/13/economia/1550088419_496910.html</td>\n",
       "    </tr>\n",
       "    <tr>\n",
       "      <th>3</th>\n",
       "      <td>Todos os filmes de Tim Burton  do pior ao melhor</td>\n",
       "      <td>Aproveitamos a recente estreia de 'Dumbo' para pedir esse ranking a Rubén Romero  crítico de cinema  professor de Comunicação Audiovisual da Universidade Carlos III e especialista no cinema do diretor que gosta de jovens estranhos</td>\n",
       "      <td>https://brasil.elpais.com/brasil/2019/03/28/cultura/1553773473_512189.html</td>\n",
       "    </tr>\n",
       "    <tr>\n",
       "      <th>4</th>\n",
       "      <td>A ascensão imparável das ‘cholitas escaladoras’</td>\n",
       "      <td>Símbolo da luta pela visibilidade das indígenas na Bolívia  um grupo de mulheres aimarás acaba de completar seu último desafio: chegar ao cume do Aconcágua  o mais alto da América</td>\n",
       "      <td>https://brasil.elpais.com/brasil/2019/03/22/internacional/1553277982_341963.html</td>\n",
       "    </tr>\n",
       "  </tbody>\n",
       "</table>\n",
       "</div>"
      ],
      "text/plain": [
       "                                                      title  \\\n",
       "0         Tudo funciona bem em Mick Jagger  menos o coração   \n",
       "1         Um Brasil de dedo em riste às portas do Mackenzie   \n",
       "2  OIT alerta para precarização do emprego em nível mundial   \n",
       "3          Todos os filmes de Tim Burton  do pior ao melhor   \n",
       "4           A ascensão imparável das ‘cholitas escaladoras’   \n",
       "\n",
       "                                                                                                                                                                                                                                 subtitle  \\\n",
       "0                                                                                O cantor  de 75 anos  se cuida mais que nunca. Pratica esporte  medita e não bebe  mas isso não evitou que tenha de ser operado por um problema cardíaco   \n",
       "1                              A expectativa de uma visita do presidente Jair Bolsonaro à universidade em São Paulo  cenário emblemático da luta estudantil durante a ditadura  gerou embates inflamados entre estudantes e bolsonaristas   \n",
       "2                                                                                  Trabalho temporário volta a crescer na Europa  mesmo após reformas. Na América Latina  recuperação econômica terá efeito modesto na geração de emprego   \n",
       "3  Aproveitamos a recente estreia de 'Dumbo' para pedir esse ranking a Rubén Romero  crítico de cinema  professor de Comunicação Audiovisual da Universidade Carlos III e especialista no cinema do diretor que gosta de jovens estranhos   \n",
       "4                                                     Símbolo da luta pela visibilidade das indígenas na Bolívia  um grupo de mulheres aimarás acaba de completar seu último desafio: chegar ao cume do Aconcágua  o mais alto da América   \n",
       "\n",
       "                                                                                url  \n",
       "0        https://brasil.elpais.com/brasil/2019/04/02/cultura/1554221535_416406.html  \n",
       "1       https://brasil.elpais.com/brasil/2019/03/27/politica/1553717682_889482.html  \n",
       "2       https://brasil.elpais.com/brasil/2019/02/13/economia/1550088419_496910.html  \n",
       "3        https://brasil.elpais.com/brasil/2019/03/28/cultura/1553773473_512189.html  \n",
       "4  https://brasil.elpais.com/brasil/2019/03/22/internacional/1553277982_341963.html  "
      ]
     },
     "metadata": {},
     "output_type": "display_data"
    },
    {
     "name": "stdout",
     "output_type": "stream",
     "text": [
      "\n",
      "\n"
     ]
    }
   ],
   "source": [
    "print_docs(tfidf_docs2)"
   ]
  },
  {
   "cell_type": "markdown",
   "metadata": {},
   "source": [
    "###### BM25"
   ]
  },
  {
   "cell_type": "code",
   "execution_count": 91,
   "metadata": {},
   "outputs": [
    {
     "data": {
      "text/html": [
       "<div>\n",
       "<style>\n",
       "    .dataframe thead tr:only-child th {\n",
       "        text-align: right;\n",
       "    }\n",
       "\n",
       "    .dataframe thead th {\n",
       "        text-align: left;\n",
       "    }\n",
       "\n",
       "    .dataframe tbody tr th {\n",
       "        vertical-align: top;\n",
       "    }\n",
       "</style>\n",
       "<table border=\"1\" class=\"dataframe\">\n",
       "  <thead>\n",
       "    <tr style=\"text-align: right;\">\n",
       "      <th></th>\n",
       "      <th>title</th>\n",
       "      <th>subtitle</th>\n",
       "      <th>url</th>\n",
       "    </tr>\n",
       "  </thead>\n",
       "  <tbody>\n",
       "    <tr>\n",
       "      <th>0</th>\n",
       "      <td>Um Brasil de dedo em riste às portas do Mackenzie</td>\n",
       "      <td>A expectativa de uma visita do presidente Jair Bolsonaro à universidade em São Paulo  cenário emblemático da luta estudantil durante a ditadura  gerou embates inflamados entre estudantes e bolsonaristas</td>\n",
       "      <td>https://brasil.elpais.com/brasil/2019/03/27/politica/1553717682_889482.html</td>\n",
       "    </tr>\n",
       "    <tr>\n",
       "      <th>1</th>\n",
       "      <td>Bolsonaro escancara cadáver insepulto da ditadura com celebração do golpe</td>\n",
       "      <td>Com medida simbólica  presidente determinou que Forças Armadas façam \"comemorações devidas\" da data</td>\n",
       "      <td>https://brasil.elpais.com/brasil/2019/03/26/politica/1553609505_570456.html</td>\n",
       "    </tr>\n",
       "    <tr>\n",
       "      <th>2</th>\n",
       "      <td>OIT alerta para precarização do emprego em nível mundial</td>\n",
       "      <td>Trabalho temporário volta a crescer na Europa  mesmo após reformas. Na América Latina  recuperação econômica terá efeito modesto na geração de emprego</td>\n",
       "      <td>https://brasil.elpais.com/brasil/2019/02/13/economia/1550088419_496910.html</td>\n",
       "    </tr>\n",
       "    <tr>\n",
       "      <th>3</th>\n",
       "      <td>Ferrovia Norte-Sul vale três vezes mais que previsto em edital  aponta estudo</td>\n",
       "      <td>Linha considerada a espinha dorsal do desenvolvimento logístico do país deve ser leiloada nesta quinta-feira com preço menor do que sugerido pela estatal Valec. Há duas empresas interessadas.</td>\n",
       "      <td>https://brasil.elpais.com/brasil/2019/03/28/politica/1553729926_061804.html</td>\n",
       "    </tr>\n",
       "    <tr>\n",
       "      <th>4</th>\n",
       "      <td>Vozes recuperadas da ditadura argentina</td>\n",
       "      <td>Familiares e amigos de vítimas narram em primeira pessoa as últimas horas com vida de entes queridos</td>\n",
       "      <td>https://brasil.elpais.com/brasil/2019/03/29/internacional/1553885143_703482.html</td>\n",
       "    </tr>\n",
       "  </tbody>\n",
       "</table>\n",
       "</div>"
      ],
      "text/plain": [
       "                                                                           title  \\\n",
       "0                              Um Brasil de dedo em riste às portas do Mackenzie   \n",
       "1      Bolsonaro escancara cadáver insepulto da ditadura com celebração do golpe   \n",
       "2                       OIT alerta para precarização do emprego em nível mundial   \n",
       "3  Ferrovia Norte-Sul vale três vezes mais que previsto em edital  aponta estudo   \n",
       "4                                        Vozes recuperadas da ditadura argentina   \n",
       "\n",
       "                                                                                                                                                                                                     subtitle  \\\n",
       "0  A expectativa de uma visita do presidente Jair Bolsonaro à universidade em São Paulo  cenário emblemático da luta estudantil durante a ditadura  gerou embates inflamados entre estudantes e bolsonaristas   \n",
       "1                                                                                                         Com medida simbólica  presidente determinou que Forças Armadas façam \"comemorações devidas\" da data   \n",
       "2                                                      Trabalho temporário volta a crescer na Europa  mesmo após reformas. Na América Latina  recuperação econômica terá efeito modesto na geração de emprego   \n",
       "3             Linha considerada a espinha dorsal do desenvolvimento logístico do país deve ser leiloada nesta quinta-feira com preço menor do que sugerido pela estatal Valec. Há duas empresas interessadas.   \n",
       "4                                                                                                        Familiares e amigos de vítimas narram em primeira pessoa as últimas horas com vida de entes queridos   \n",
       "\n",
       "                                                                                url  \n",
       "0       https://brasil.elpais.com/brasil/2019/03/27/politica/1553717682_889482.html  \n",
       "1       https://brasil.elpais.com/brasil/2019/03/26/politica/1553609505_570456.html  \n",
       "2       https://brasil.elpais.com/brasil/2019/02/13/economia/1550088419_496910.html  \n",
       "3       https://brasil.elpais.com/brasil/2019/03/28/politica/1553729926_061804.html  \n",
       "4  https://brasil.elpais.com/brasil/2019/03/29/internacional/1553885143_703482.html  "
      ]
     },
     "metadata": {},
     "output_type": "display_data"
    },
    {
     "name": "stdout",
     "output_type": "stream",
     "text": [
      "\n",
      "\n"
     ]
    }
   ],
   "source": [
    "print_docs(bm25_docs2)"
   ]
  },
  {
   "cell_type": "markdown",
   "metadata": {},
   "source": [
    "Novamente o **BM25** apresentou os melhores resultados, trazendo notícias relacionadas á política e economia em todos os seus resultados."
   ]
  },
  {
   "cell_type": "markdown",
   "metadata": {},
   "source": [
    "##### query3: jair bolsonaro"
   ]
  },
  {
   "cell_type": "code",
   "execution_count": 95,
   "metadata": {
    "collapsed": true
   },
   "outputs": [],
   "source": [
    "binary_docs3 = []\n",
    "tf_docs3 = []\n",
    "tfidf_docs3 = []\n",
    "bm25_docs3 = []\n",
    "\n",
    "for i in range(5):\n",
    "    binary_docs3.append(top5_binary[2][i][1])\n",
    "    tf_docs3.append(top5_tf[2][i][1])\n",
    "    tfidf_docs3.append(top5_tfidf[2][i][1])\n",
    "    bm25_docs3.append(top5_bm25[2][i][1])"
   ]
  },
  {
   "cell_type": "markdown",
   "metadata": {},
   "source": [
    "###### binary"
   ]
  },
  {
   "cell_type": "code",
   "execution_count": 97,
   "metadata": {},
   "outputs": [
    {
     "data": {
      "text/html": [
       "<div>\n",
       "<style>\n",
       "    .dataframe thead tr:only-child th {\n",
       "        text-align: right;\n",
       "    }\n",
       "\n",
       "    .dataframe thead th {\n",
       "        text-align: left;\n",
       "    }\n",
       "\n",
       "    .dataframe tbody tr th {\n",
       "        vertical-align: top;\n",
       "    }\n",
       "</style>\n",
       "<table border=\"1\" class=\"dataframe\">\n",
       "  <thead>\n",
       "    <tr style=\"text-align: right;\">\n",
       "      <th></th>\n",
       "      <th>title</th>\n",
       "      <th>subtitle</th>\n",
       "      <th>url</th>\n",
       "    </tr>\n",
       "  </thead>\n",
       "  <tbody>\n",
       "    <tr>\n",
       "      <th>0</th>\n",
       "      <td>Tatiana Roque: “O problema da esquerda não é a pauta dita identitária  mas sim a lacração”</td>\n",
       "      <td>Para filósofa e matemática  campo progressista deve se opor à reforma da Previdência de Bolsonaro apresentando seu próprio projeto. Defende que a renovação deve vir a partir dos municípios</td>\n",
       "      <td>https://brasil.elpais.com/brasil/2019/03/20/politica/1553037448_213932.html</td>\n",
       "    </tr>\n",
       "    <tr>\n",
       "      <th>1</th>\n",
       "      <td>Dois aviões russos chegam à Venezuela com uma centena de militares</td>\n",
       "      <td>Aterrissagem das aeronaves ocorre depois de Maduro dizer que havia reforçado sua segurança</td>\n",
       "      <td>https://brasil.elpais.com/brasil/2019/03/24/internacional/1553458236_783517.html</td>\n",
       "    </tr>\n",
       "    <tr>\n",
       "      <th>2</th>\n",
       "      <td>Israel ataca Gaza e o Hamas lança foguetes apesar do anúncio de cessar-fogo</td>\n",
       "      <td>Exército concentra tropas e limita as atividades civis na fronteira do enclave palestino</td>\n",
       "      <td>https://brasil.elpais.com/brasil/2019/03/26/internacional/1553587140_841439.html</td>\n",
       "    </tr>\n",
       "    <tr>\n",
       "      <th>3</th>\n",
       "      <td>Forças curdo-árabes anunciam a queda do último bastião do ISIS na Síria</td>\n",
       "      <td>As milícias da coalizão anunciaram na manhã de sábado o fim do califado do Estado Islâmico depois de quase cinco anos de combates</td>\n",
       "      <td>https://brasil.elpais.com/brasil/2019/03/23/internacional/1553329466_793785.html</td>\n",
       "    </tr>\n",
       "    <tr>\n",
       "      <th>4</th>\n",
       "      <td>Nanga Parbat  a obsessão com a ‘montanha assassina’</td>\n",
       "      <td>A recente morte de dois alpinistas no topo mais letal depois do Annapurna acentua a angustiante luta com este cume há mais de um século</td>\n",
       "      <td>https://brasil.elpais.com/brasil/2019/03/20/deportes/1553098084_373740.html</td>\n",
       "    </tr>\n",
       "  </tbody>\n",
       "</table>\n",
       "</div>"
      ],
      "text/plain": [
       "                                                                                        title  \\\n",
       "0  Tatiana Roque: “O problema da esquerda não é a pauta dita identitária  mas sim a lacração”   \n",
       "1                          Dois aviões russos chegam à Venezuela com uma centena de militares   \n",
       "2                 Israel ataca Gaza e o Hamas lança foguetes apesar do anúncio de cessar-fogo   \n",
       "3                     Forças curdo-árabes anunciam a queda do último bastião do ISIS na Síria   \n",
       "4                                         Nanga Parbat  a obsessão com a ‘montanha assassina’   \n",
       "\n",
       "                                                                                                                                                                                       subtitle  \\\n",
       "0  Para filósofa e matemática  campo progressista deve se opor à reforma da Previdência de Bolsonaro apresentando seu próprio projeto. Defende que a renovação deve vir a partir dos municípios   \n",
       "1                                                                                                    Aterrissagem das aeronaves ocorre depois de Maduro dizer que havia reforçado sua segurança   \n",
       "2                                                                                                      Exército concentra tropas e limita as atividades civis na fronteira do enclave palestino   \n",
       "3                                                             As milícias da coalizão anunciaram na manhã de sábado o fim do califado do Estado Islâmico depois de quase cinco anos de combates   \n",
       "4                                                       A recente morte de dois alpinistas no topo mais letal depois do Annapurna acentua a angustiante luta com este cume há mais de um século   \n",
       "\n",
       "                                                                                url  \n",
       "0       https://brasil.elpais.com/brasil/2019/03/20/politica/1553037448_213932.html  \n",
       "1  https://brasil.elpais.com/brasil/2019/03/24/internacional/1553458236_783517.html  \n",
       "2  https://brasil.elpais.com/brasil/2019/03/26/internacional/1553587140_841439.html  \n",
       "3  https://brasil.elpais.com/brasil/2019/03/23/internacional/1553329466_793785.html  \n",
       "4       https://brasil.elpais.com/brasil/2019/03/20/deportes/1553098084_373740.html  "
      ]
     },
     "metadata": {},
     "output_type": "display_data"
    },
    {
     "name": "stdout",
     "output_type": "stream",
     "text": [
      "\n",
      "\n"
     ]
    }
   ],
   "source": [
    "print_docs(binary_docs3)"
   ]
  },
  {
   "cell_type": "markdown",
   "metadata": {},
   "source": [
    "###### TF"
   ]
  },
  {
   "cell_type": "code",
   "execution_count": 98,
   "metadata": {},
   "outputs": [
    {
     "data": {
      "text/html": [
       "<div>\n",
       "<style>\n",
       "    .dataframe thead tr:only-child th {\n",
       "        text-align: right;\n",
       "    }\n",
       "\n",
       "    .dataframe thead th {\n",
       "        text-align: left;\n",
       "    }\n",
       "\n",
       "    .dataframe tbody tr th {\n",
       "        vertical-align: top;\n",
       "    }\n",
       "</style>\n",
       "<table border=\"1\" class=\"dataframe\">\n",
       "  <thead>\n",
       "    <tr style=\"text-align: right;\">\n",
       "      <th></th>\n",
       "      <th>title</th>\n",
       "      <th>subtitle</th>\n",
       "      <th>url</th>\n",
       "    </tr>\n",
       "  </thead>\n",
       "  <tbody>\n",
       "    <tr>\n",
       "      <th>0</th>\n",
       "      <td>Tatiana Roque: “O problema da esquerda não é a pauta dita identitária  mas sim a lacração”</td>\n",
       "      <td>Para filósofa e matemática  campo progressista deve se opor à reforma da Previdência de Bolsonaro apresentando seu próprio projeto. Defende que a renovação deve vir a partir dos municípios</td>\n",
       "      <td>https://brasil.elpais.com/brasil/2019/03/20/politica/1553037448_213932.html</td>\n",
       "    </tr>\n",
       "    <tr>\n",
       "      <th>1</th>\n",
       "      <td>Dois aviões russos chegam à Venezuela com uma centena de militares</td>\n",
       "      <td>Aterrissagem das aeronaves ocorre depois de Maduro dizer que havia reforçado sua segurança</td>\n",
       "      <td>https://brasil.elpais.com/brasil/2019/03/24/internacional/1553458236_783517.html</td>\n",
       "    </tr>\n",
       "    <tr>\n",
       "      <th>2</th>\n",
       "      <td>Israel ataca Gaza e o Hamas lança foguetes apesar do anúncio de cessar-fogo</td>\n",
       "      <td>Exército concentra tropas e limita as atividades civis na fronteira do enclave palestino</td>\n",
       "      <td>https://brasil.elpais.com/brasil/2019/03/26/internacional/1553587140_841439.html</td>\n",
       "    </tr>\n",
       "    <tr>\n",
       "      <th>3</th>\n",
       "      <td>Forças curdo-árabes anunciam a queda do último bastião do ISIS na Síria</td>\n",
       "      <td>As milícias da coalizão anunciaram na manhã de sábado o fim do califado do Estado Islâmico depois de quase cinco anos de combates</td>\n",
       "      <td>https://brasil.elpais.com/brasil/2019/03/23/internacional/1553329466_793785.html</td>\n",
       "    </tr>\n",
       "    <tr>\n",
       "      <th>4</th>\n",
       "      <td>Nanga Parbat  a obsessão com a ‘montanha assassina’</td>\n",
       "      <td>A recente morte de dois alpinistas no topo mais letal depois do Annapurna acentua a angustiante luta com este cume há mais de um século</td>\n",
       "      <td>https://brasil.elpais.com/brasil/2019/03/20/deportes/1553098084_373740.html</td>\n",
       "    </tr>\n",
       "  </tbody>\n",
       "</table>\n",
       "</div>"
      ],
      "text/plain": [
       "                                                                                        title  \\\n",
       "0  Tatiana Roque: “O problema da esquerda não é a pauta dita identitária  mas sim a lacração”   \n",
       "1                          Dois aviões russos chegam à Venezuela com uma centena de militares   \n",
       "2                 Israel ataca Gaza e o Hamas lança foguetes apesar do anúncio de cessar-fogo   \n",
       "3                     Forças curdo-árabes anunciam a queda do último bastião do ISIS na Síria   \n",
       "4                                         Nanga Parbat  a obsessão com a ‘montanha assassina’   \n",
       "\n",
       "                                                                                                                                                                                       subtitle  \\\n",
       "0  Para filósofa e matemática  campo progressista deve se opor à reforma da Previdência de Bolsonaro apresentando seu próprio projeto. Defende que a renovação deve vir a partir dos municípios   \n",
       "1                                                                                                    Aterrissagem das aeronaves ocorre depois de Maduro dizer que havia reforçado sua segurança   \n",
       "2                                                                                                      Exército concentra tropas e limita as atividades civis na fronteira do enclave palestino   \n",
       "3                                                             As milícias da coalizão anunciaram na manhã de sábado o fim do califado do Estado Islâmico depois de quase cinco anos de combates   \n",
       "4                                                       A recente morte de dois alpinistas no topo mais letal depois do Annapurna acentua a angustiante luta com este cume há mais de um século   \n",
       "\n",
       "                                                                                url  \n",
       "0       https://brasil.elpais.com/brasil/2019/03/20/politica/1553037448_213932.html  \n",
       "1  https://brasil.elpais.com/brasil/2019/03/24/internacional/1553458236_783517.html  \n",
       "2  https://brasil.elpais.com/brasil/2019/03/26/internacional/1553587140_841439.html  \n",
       "3  https://brasil.elpais.com/brasil/2019/03/23/internacional/1553329466_793785.html  \n",
       "4       https://brasil.elpais.com/brasil/2019/03/20/deportes/1553098084_373740.html  "
      ]
     },
     "metadata": {},
     "output_type": "display_data"
    },
    {
     "name": "stdout",
     "output_type": "stream",
     "text": [
      "\n",
      "\n"
     ]
    }
   ],
   "source": [
    "print_docs(tf_docs3)"
   ]
  },
  {
   "cell_type": "markdown",
   "metadata": {},
   "source": [
    "###### TF-IDF"
   ]
  },
  {
   "cell_type": "code",
   "execution_count": 99,
   "metadata": {},
   "outputs": [
    {
     "data": {
      "text/html": [
       "<div>\n",
       "<style>\n",
       "    .dataframe thead tr:only-child th {\n",
       "        text-align: right;\n",
       "    }\n",
       "\n",
       "    .dataframe thead th {\n",
       "        text-align: left;\n",
       "    }\n",
       "\n",
       "    .dataframe tbody tr th {\n",
       "        vertical-align: top;\n",
       "    }\n",
       "</style>\n",
       "<table border=\"1\" class=\"dataframe\">\n",
       "  <thead>\n",
       "    <tr style=\"text-align: right;\">\n",
       "      <th></th>\n",
       "      <th>title</th>\n",
       "      <th>subtitle</th>\n",
       "      <th>url</th>\n",
       "    </tr>\n",
       "  </thead>\n",
       "  <tbody>\n",
       "    <tr>\n",
       "      <th>0</th>\n",
       "      <td>Tatiana Roque: “O problema da esquerda não é a pauta dita identitária  mas sim a lacração”</td>\n",
       "      <td>Para filósofa e matemática  campo progressista deve se opor à reforma da Previdência de Bolsonaro apresentando seu próprio projeto. Defende que a renovação deve vir a partir dos municípios</td>\n",
       "      <td>https://brasil.elpais.com/brasil/2019/03/20/politica/1553037448_213932.html</td>\n",
       "    </tr>\n",
       "    <tr>\n",
       "      <th>1</th>\n",
       "      <td>Dois aviões russos chegam à Venezuela com uma centena de militares</td>\n",
       "      <td>Aterrissagem das aeronaves ocorre depois de Maduro dizer que havia reforçado sua segurança</td>\n",
       "      <td>https://brasil.elpais.com/brasil/2019/03/24/internacional/1553458236_783517.html</td>\n",
       "    </tr>\n",
       "    <tr>\n",
       "      <th>2</th>\n",
       "      <td>Israel ataca Gaza e o Hamas lança foguetes apesar do anúncio de cessar-fogo</td>\n",
       "      <td>Exército concentra tropas e limita as atividades civis na fronteira do enclave palestino</td>\n",
       "      <td>https://brasil.elpais.com/brasil/2019/03/26/internacional/1553587140_841439.html</td>\n",
       "    </tr>\n",
       "    <tr>\n",
       "      <th>3</th>\n",
       "      <td>Forças curdo-árabes anunciam a queda do último bastião do ISIS na Síria</td>\n",
       "      <td>As milícias da coalizão anunciaram na manhã de sábado o fim do califado do Estado Islâmico depois de quase cinco anos de combates</td>\n",
       "      <td>https://brasil.elpais.com/brasil/2019/03/23/internacional/1553329466_793785.html</td>\n",
       "    </tr>\n",
       "    <tr>\n",
       "      <th>4</th>\n",
       "      <td>Nanga Parbat  a obsessão com a ‘montanha assassina’</td>\n",
       "      <td>A recente morte de dois alpinistas no topo mais letal depois do Annapurna acentua a angustiante luta com este cume há mais de um século</td>\n",
       "      <td>https://brasil.elpais.com/brasil/2019/03/20/deportes/1553098084_373740.html</td>\n",
       "    </tr>\n",
       "  </tbody>\n",
       "</table>\n",
       "</div>"
      ],
      "text/plain": [
       "                                                                                        title  \\\n",
       "0  Tatiana Roque: “O problema da esquerda não é a pauta dita identitária  mas sim a lacração”   \n",
       "1                          Dois aviões russos chegam à Venezuela com uma centena de militares   \n",
       "2                 Israel ataca Gaza e o Hamas lança foguetes apesar do anúncio de cessar-fogo   \n",
       "3                     Forças curdo-árabes anunciam a queda do último bastião do ISIS na Síria   \n",
       "4                                         Nanga Parbat  a obsessão com a ‘montanha assassina’   \n",
       "\n",
       "                                                                                                                                                                                       subtitle  \\\n",
       "0  Para filósofa e matemática  campo progressista deve se opor à reforma da Previdência de Bolsonaro apresentando seu próprio projeto. Defende que a renovação deve vir a partir dos municípios   \n",
       "1                                                                                                    Aterrissagem das aeronaves ocorre depois de Maduro dizer que havia reforçado sua segurança   \n",
       "2                                                                                                      Exército concentra tropas e limita as atividades civis na fronteira do enclave palestino   \n",
       "3                                                             As milícias da coalizão anunciaram na manhã de sábado o fim do califado do Estado Islâmico depois de quase cinco anos de combates   \n",
       "4                                                       A recente morte de dois alpinistas no topo mais letal depois do Annapurna acentua a angustiante luta com este cume há mais de um século   \n",
       "\n",
       "                                                                                url  \n",
       "0       https://brasil.elpais.com/brasil/2019/03/20/politica/1553037448_213932.html  \n",
       "1  https://brasil.elpais.com/brasil/2019/03/24/internacional/1553458236_783517.html  \n",
       "2  https://brasil.elpais.com/brasil/2019/03/26/internacional/1553587140_841439.html  \n",
       "3  https://brasil.elpais.com/brasil/2019/03/23/internacional/1553329466_793785.html  \n",
       "4       https://brasil.elpais.com/brasil/2019/03/20/deportes/1553098084_373740.html  "
      ]
     },
     "metadata": {},
     "output_type": "display_data"
    },
    {
     "name": "stdout",
     "output_type": "stream",
     "text": [
      "\n",
      "\n"
     ]
    }
   ],
   "source": [
    "print_docs(tfidf_docs3)"
   ]
  },
  {
   "cell_type": "markdown",
   "metadata": {},
   "source": [
    "###### BM25"
   ]
  },
  {
   "cell_type": "code",
   "execution_count": 100,
   "metadata": {},
   "outputs": [
    {
     "data": {
      "text/html": [
       "<div>\n",
       "<style>\n",
       "    .dataframe thead tr:only-child th {\n",
       "        text-align: right;\n",
       "    }\n",
       "\n",
       "    .dataframe thead th {\n",
       "        text-align: left;\n",
       "    }\n",
       "\n",
       "    .dataframe tbody tr th {\n",
       "        vertical-align: top;\n",
       "    }\n",
       "</style>\n",
       "<table border=\"1\" class=\"dataframe\">\n",
       "  <thead>\n",
       "    <tr style=\"text-align: right;\">\n",
       "      <th></th>\n",
       "      <th>title</th>\n",
       "      <th>subtitle</th>\n",
       "      <th>url</th>\n",
       "    </tr>\n",
       "  </thead>\n",
       "  <tbody>\n",
       "    <tr>\n",
       "      <th>0</th>\n",
       "      <td>Tatiana Roque: “O problema da esquerda não é a pauta dita identitária  mas sim a lacração”</td>\n",
       "      <td>Para filósofa e matemática  campo progressista deve se opor à reforma da Previdência de Bolsonaro apresentando seu próprio projeto. Defende que a renovação deve vir a partir dos municípios</td>\n",
       "      <td>https://brasil.elpais.com/brasil/2019/03/20/politica/1553037448_213932.html</td>\n",
       "    </tr>\n",
       "    <tr>\n",
       "      <th>1</th>\n",
       "      <td>Dois aviões russos chegam à Venezuela com uma centena de militares</td>\n",
       "      <td>Aterrissagem das aeronaves ocorre depois de Maduro dizer que havia reforçado sua segurança</td>\n",
       "      <td>https://brasil.elpais.com/brasil/2019/03/24/internacional/1553458236_783517.html</td>\n",
       "    </tr>\n",
       "    <tr>\n",
       "      <th>2</th>\n",
       "      <td>Israel ataca Gaza e o Hamas lança foguetes apesar do anúncio de cessar-fogo</td>\n",
       "      <td>Exército concentra tropas e limita as atividades civis na fronteira do enclave palestino</td>\n",
       "      <td>https://brasil.elpais.com/brasil/2019/03/26/internacional/1553587140_841439.html</td>\n",
       "    </tr>\n",
       "    <tr>\n",
       "      <th>3</th>\n",
       "      <td>Forças curdo-árabes anunciam a queda do último bastião do ISIS na Síria</td>\n",
       "      <td>As milícias da coalizão anunciaram na manhã de sábado o fim do califado do Estado Islâmico depois de quase cinco anos de combates</td>\n",
       "      <td>https://brasil.elpais.com/brasil/2019/03/23/internacional/1553329466_793785.html</td>\n",
       "    </tr>\n",
       "    <tr>\n",
       "      <th>4</th>\n",
       "      <td>Nanga Parbat  a obsessão com a ‘montanha assassina’</td>\n",
       "      <td>A recente morte de dois alpinistas no topo mais letal depois do Annapurna acentua a angustiante luta com este cume há mais de um século</td>\n",
       "      <td>https://brasil.elpais.com/brasil/2019/03/20/deportes/1553098084_373740.html</td>\n",
       "    </tr>\n",
       "  </tbody>\n",
       "</table>\n",
       "</div>"
      ],
      "text/plain": [
       "                                                                                        title  \\\n",
       "0  Tatiana Roque: “O problema da esquerda não é a pauta dita identitária  mas sim a lacração”   \n",
       "1                          Dois aviões russos chegam à Venezuela com uma centena de militares   \n",
       "2                 Israel ataca Gaza e o Hamas lança foguetes apesar do anúncio de cessar-fogo   \n",
       "3                     Forças curdo-árabes anunciam a queda do último bastião do ISIS na Síria   \n",
       "4                                         Nanga Parbat  a obsessão com a ‘montanha assassina’   \n",
       "\n",
       "                                                                                                                                                                                       subtitle  \\\n",
       "0  Para filósofa e matemática  campo progressista deve se opor à reforma da Previdência de Bolsonaro apresentando seu próprio projeto. Defende que a renovação deve vir a partir dos municípios   \n",
       "1                                                                                                    Aterrissagem das aeronaves ocorre depois de Maduro dizer que havia reforçado sua segurança   \n",
       "2                                                                                                      Exército concentra tropas e limita as atividades civis na fronteira do enclave palestino   \n",
       "3                                                             As milícias da coalizão anunciaram na manhã de sábado o fim do califado do Estado Islâmico depois de quase cinco anos de combates   \n",
       "4                                                       A recente morte de dois alpinistas no topo mais letal depois do Annapurna acentua a angustiante luta com este cume há mais de um século   \n",
       "\n",
       "                                                                                url  \n",
       "0       https://brasil.elpais.com/brasil/2019/03/20/politica/1553037448_213932.html  \n",
       "1  https://brasil.elpais.com/brasil/2019/03/24/internacional/1553458236_783517.html  \n",
       "2  https://brasil.elpais.com/brasil/2019/03/26/internacional/1553587140_841439.html  \n",
       "3  https://brasil.elpais.com/brasil/2019/03/23/internacional/1553329466_793785.html  \n",
       "4       https://brasil.elpais.com/brasil/2019/03/20/deportes/1553098084_373740.html  "
      ]
     },
     "metadata": {},
     "output_type": "display_data"
    },
    {
     "name": "stdout",
     "output_type": "stream",
     "text": [
      "\n",
      "\n"
     ]
    }
   ],
   "source": [
    "print_docs(bm25_docs3)"
   ]
  },
  {
   "cell_type": "markdown",
   "metadata": {},
   "source": [
    "Curiosamente essa todos os modelos retornaram os mesmos resultados para essa query. Dessa forma, não podemos determinar quem obteve os melhores resultados."
   ]
  },
  {
   "cell_type": "markdown",
   "metadata": {},
   "source": [
    "#### 2. Calcule e reporte o overlap par-a-par entre os resultados de cada modelo"
   ]
  },
  {
   "cell_type": "code",
   "execution_count": null,
   "metadata": {
    "collapsed": true
   },
   "outputs": [],
   "source": []
  }
 ],
 "metadata": {
  "kernelspec": {
   "display_name": "Python 3",
   "language": "python",
   "name": "python3"
  },
  "language_info": {
   "codemirror_mode": {
    "name": "ipython",
    "version": 3
   },
   "file_extension": ".py",
   "mimetype": "text/x-python",
   "name": "python",
   "nbconvert_exporter": "python",
   "pygments_lexer": "ipython3",
   "version": "3.6.3"
  }
 },
 "nbformat": 4,
 "nbformat_minor": 2
}
